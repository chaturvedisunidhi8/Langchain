{
 "cells": [
  {
   "cell_type": "code",
   "execution_count": 4,
   "id": "b1040c24",
   "metadata": {},
   "outputs": [
    {
     "data": {
      "text/plain": [
       "True"
      ]
     },
     "execution_count": 4,
     "metadata": {},
     "output_type": "execute_result"
    }
   ],
   "source": [
    "import os\n",
    "from dotenv import load_dotenv\n",
    "load_dotenv()##load all environment variable\n"
   ]
  },
  {
   "cell_type": "code",
   "execution_count": 2,
   "id": "e7afea4b",
   "metadata": {},
   "outputs": [
    {
     "name": "stdout",
     "output_type": "stream",
     "text": [
      "c:\\sunidhi\\vscode\\Langchain\\DataIngestion\n"
     ]
    }
   ],
   "source": [
    "import os\n",
    "print(os.getcwd())\n"
   ]
  },
  {
   "cell_type": "code",
   "execution_count": null,
   "id": "e4c7afc8",
   "metadata": {},
   "outputs": [],
   "source": [
    "\n",
    "os.environ[\"HF_token\"]=os.getenv(\"HF_token\")  \n",
    "\n",
    "##install libarary sentence_transformers (It’s a Python library built on top of Hugging Face Transformers and PyTorch.\n",
    "##It provides easy-to-use models for generating embeddings (vector representations) of sentences,)"
   ]
  },
  {
   "cell_type": "code",
   "execution_count": null,
   "id": "70bfe0bf",
   "metadata": {},
   "outputs": [
    {
     "ename": "ModuleNotFoundError",
     "evalue": "No module named 'langchain_huggingface'",
     "output_type": "error",
     "traceback": [
      "\u001b[1;31m---------------------------------------------------------------------------\u001b[0m",
      "\u001b[1;31mModuleNotFoundError\u001b[0m                       Traceback (most recent call last)",
      "Cell \u001b[1;32mIn[6], line 1\u001b[0m\n\u001b[1;32m----> 1\u001b[0m \u001b[38;5;28;01mfrom\u001b[39;00m\u001b[38;5;250m \u001b[39m\u001b[38;5;21;01mlangchain_huggingface\u001b[39;00m\u001b[38;5;250m \u001b[39m\u001b[38;5;28;01mimport\u001b[39;00m HuggingFaceEmbeddings\n\u001b[0;32m      2\u001b[0m embeddings\u001b[38;5;241m=\u001b[39mHuggingFaceEmbeddings(model\u001b[38;5;241m=\u001b[39m\u001b[38;5;124m\"\u001b[39m\u001b[38;5;124mall-MiniLM-L6-v2\u001b[39m\u001b[38;5;124m\"\u001b[39m)\n",
      "\u001b[1;31mModuleNotFoundError\u001b[0m: No module named 'langchain_huggingface'"
     ]
    }
   ],
   "source": [
    "from langchain_huggingface import HuggingFaceEmbeddings\n",
    "embeddings=HuggingFaceEmbeddings(model=\"all-MiniLM-L6-v2\")"
   ]
  },
  {
   "cell_type": "code",
   "execution_count": null,
   "id": "4c4fb341",
   "metadata": {},
   "outputs": [],
   "source": [
    "text=\"this is my test document\"\n",
    "query_result=embeddings.embed_query(text,\"other statements can be given here\")\n",
    "query_result "
   ]
  },
  {
   "cell_type": "code",
   "execution_count": null,
   "id": "70b70f4e",
   "metadata": {},
   "outputs": [],
   "source": [
    "len(query_result)"
   ]
  }
 ],
 "metadata": {
  "kernelspec": {
   "display_name": "venv (3.10.13)",
   "language": "python",
   "name": "python3"
  },
  "language_info": {
   "codemirror_mode": {
    "name": "ipython",
    "version": 3
   },
   "file_extension": ".py",
   "mimetype": "text/x-python",
   "name": "python",
   "nbconvert_exporter": "python",
   "pygments_lexer": "ipython3",
   "version": "3.10.13"
  }
 },
 "nbformat": 4,
 "nbformat_minor": 5
}
