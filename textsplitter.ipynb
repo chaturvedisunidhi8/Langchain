{
 "cells": [
  {
   "cell_type": "code",
   "execution_count": 4,
   "id": "b7521d02",
   "metadata": {},
   "outputs": [
    {
     "data": {
      "text/plain": [
       "[Document(metadata={'source': 'speech.txt'}, page_content='Good morning everyone,\\n\\nIt is a pleasure to be here today to talk about the power of technology in shaping our future. \\nFrom artificial intelligence to renewable energy, we are living in an era of rapid innovation. \\n\\nBut with great power comes great responsibility. \\nWe must ensure that technology is used not only to make our lives easier, but also to create a fairer and more sustainable world. \\n\\nThank you.\\n')]"
      ]
     },
     "execution_count": 4,
     "metadata": {},
     "output_type": "execute_result"
    }
   ],
   "source": [
    "\n",
    "from langchain_community.document_loaders.text import TextLoader\n",
    "\n",
    "loader = TextLoader(\"speech.txt\")   # create loader\n",
    "doc=loader.load()\n",
    "doc"
   ]
  },
  {
   "cell_type": "markdown",
   "id": "5fde8857",
   "metadata": {},
   "source": [
    "How ro recursively split text by characters"
   ]
  },
  {
   "cell_type": "code",
   "execution_count": null,
   "id": "9f803b09",
   "metadata": {},
   "outputs": [],
   "source": [
    "import sys\n",
    "!{sys.executable} -m pip install --upgrade pip\n",
    "!{sys.executable} -m pip install --upgrade langchain\n",
    "!{sys.executable} -m pip install langchain-text-splitters\n"
   ]
  },
  {
   "cell_type": "code",
   "execution_count": 20,
   "id": "c5db4621",
   "metadata": {},
   "outputs": [
    {
     "data": {
      "text/plain": [
       "[Document(metadata={'source': 'speech.txt'}, page_content='Good morning everyone,\\n\\nIt is a pleasure to be here today to talk about the power of technology in shaping our future. \\nFrom artificial intelligence to renewable energy, we are living in an era of rapid innovation. \\n\\nBut with great power comes great responsibility. \\nWe must ensure that technology is used not only to make our lives easier, but also to create a fairer and more sustainable world. \\n\\nThank you.')]"
      ]
     },
     "execution_count": 20,
     "metadata": {},
     "output_type": "execute_result"
    }
   ],
   "source": [
    "from langchain_text_splitters import RecursiveCharacterTextSplitter\n",
    "\n",
    "text_splitter=RecursiveCharacterTextSplitter(chunk_size=500,chunk_overlap=50)##chunk_size means each chunk has maximize size of 500\n",
    "final_document_splitter=text_splitter.split_documents(doc)## for both txt file and pdf\n",
    "final_document_splitter"
   ]
  },
  {
   "cell_type": "code",
   "execution_count": null,
   "id": "63a0da48",
   "metadata": {},
   "outputs": [
    {
     "data": {
      "text/plain": [
       "Document(metadata={'source': 'speech.txt'}, page_content='Good morning everyone,\\n\\nIt is a pleasure to be here today to talk about the power of technology in shaping our future. \\nFrom artificial intelligence to renewable energy, we are living in an era of rapid innovation. \\n\\nBut with great power comes great responsibility. \\nWe must ensure that technology is used not only to make our lives easier, but also to create a fairer and more sustainable world. \\n\\nThank you.')"
      ]
     },
     "execution_count": 11,
     "metadata": {},
     "output_type": "execute_result"
    }
   ],
   "source": [
    "final_document_splitter[0]\n",
    "##why the output is in line cuz here in output a single document comprises 500 chunks"
   ]
  },
  {
   "cell_type": "markdown",
   "id": "1cccb5c1",
   "metadata": {},
   "source": [
    "Open speech.txt in another way"
   ]
  },
  {
   "cell_type": "code",
   "execution_count": null,
   "id": "fbfecf1a",
   "metadata": {},
   "outputs": [],
   "source": [
    "## it will not give the document type, directly give you the text\n",
    "## whenever we work with langchain it ensures to convert everything in doc. type bcz docs have more features"
   ]
  },
  {
   "cell_type": "code",
   "execution_count": null,
   "id": "f04fe56e",
   "metadata": {},
   "outputs": [
    {
     "data": {
      "text/plain": [
       "'final_document_splitter=text_splitter.create_documents([doc])'"
      ]
     },
     "execution_count": 21,
     "metadata": {},
     "output_type": "execute_result"
    }
   ],
   "source": [
    "speech=\"\"\n",
    "with open(\"speech.txt\") as f:\n",
    "    speech=f.read()    \n",
    "\n",
    "\n",
    "text_splitter=RecursiveCharacterTextSplitter(chunk_size=500,chunk_overlap=50)\n",
    "text_splitter=text_splitter.create_documents([speech])\n",
    "text_splitter \n",
    "\n",
    "\n",
    "'''final_document_splitter=text_splitter.create_documents([doc])'''\n",
    "##🔹 2. create_documents()\n",
    "\n",
    "##Input: a list of raw strings, not Document objects.\n",
    "\n",
    "##Usage: make new Document objects directly from strings.\n",
    "## \\n\\n\\n\\n used for splitting"
   ]
  },
  {
   "cell_type": "code",
   "execution_count": null,
   "id": "f316ff29",
   "metadata": {},
   "outputs": [
    {
     "data": {
      "text/plain": [
       "[Document(metadata={'source': 'speech.txt'}, page_content='Good morning everyone,\\n\\nIt is a pleasure to be here today to talk about the power of technology in shaping our future. \\nFrom artificial intelligence to renewable energy, we are living in an era of rapid innovation. \\n\\nBut with great power comes great responsibility. \\nWe must ensure that technology is used not only to make our lives easier, but also to create a fairer and more sustainable world. \\n\\nThank you.\\n')]"
      ]
     },
     "execution_count": 22,
     "metadata": {},
     "output_type": "execute_result"
    }
   ],
   "source": [
    "\n",
    "from langchain_community.document_loaders.text import TextLoader\n",
    "\n",
    "loader = TextLoader(\"speech.txt\")   # create loader\n",
    "doc=loader.load()\n",
    "doc\n"
   ]
  },
  {
   "cell_type": "markdown",
   "id": "18cbdd3d",
   "metadata": {},
   "source": [
    "Recursive character text splitter"
   ]
  },
  {
   "cell_type": "code",
   "execution_count": null,
   "id": "846fb9fb",
   "metadata": {},
   "outputs": [
    {
     "name": "stderr",
     "output_type": "stream",
     "text": [
      "Created a chunk of size 191, which is longer than the specified 50\n",
      "Created a chunk of size 180, which is longer than the specified 50\n"
     ]
    },
    {
     "data": {
      "text/plain": [
       "[Document(metadata={'source': 'speech.txt'}, page_content='Good morning everyone,'),\n",
       " Document(metadata={'source': 'speech.txt'}, page_content='It is a pleasure to be here today to talk about the power of technology in shaping our future. \\nFrom artificial intelligence to renewable energy, we are living in an era of rapid innovation.'),\n",
       " Document(metadata={'source': 'speech.txt'}, page_content='But with great power comes great responsibility. \\nWe must ensure that technology is used not only to make our lives easier, but also to create a fairer and more sustainable world.'),\n",
       " Document(metadata={'source': 'speech.txt'}, page_content='Thank you.')]"
      ]
     },
     "execution_count": 23,
     "metadata": {},
     "output_type": "execute_result"
    }
   ],
   "source": [
    "from langchain_text_splitters import CharacterTextSplitter\n",
    "text_splitter=CharacterTextSplitter(separator=\"\\n\\n\",chunk_size=50,chunk_overlap=50)##separator=\" \" this can also be.....\n",
    "text_splitter.split_documents(doc)\n",
    "##from langchain_text_splitters import CharacterTextSplitter\n",
    "'''text_splitter=CharacterTextSplitter(separator=\"\\n\\n\",chunk_size=50,chunk_overlap=50)\n",
    "text_splitter.split_documents(doc)'''\n",
    "\n"
   ]
  },
  {
   "cell_type": "code",
   "execution_count": null,
   "id": "a1a0d83f",
   "metadata": {},
   "outputs": [],
   "source": [
    "##Created a chunk of size 191, which is longer than the specified 50  the reason is bcz it is not able to find out the seperator"
   ]
  },
  {
   "cell_type": "markdown",
   "id": "97ae7b74",
   "metadata": {},
   "source": [
    "\n",
    "🔹 1. CharacterTextSplitter\n",
    "\n",
    "Splits text into chunks by looking for a single fixed separator (like \"\\n\\n\" or \" \").\n",
    "\n",
    "If the separator isn’t found, it just cuts at the chunk_size.\n",
    "\n",
    "Simple and fast, but not very “smart” → may split in awkward places.\n",
    "\n",
    "\n",
    "\n",
    "\n",
    "\n",
    "\n",
    "🔹 2. RecursiveCharacterTextSplitter\n",
    "\n",
    "Smarter version 🧠.\n",
    "\n",
    "Uses a list of separators (like [\"\\n\\n\", \"\\n\", \" \", \"\"]) and tries them in order.\n",
    "\n",
    "First, it tries to split by bigger logical breaks (paragraphs, then sentences, then words).\n",
    "\n",
    "Only if nothing fits within chunk_size, it falls back to character-level splitting.\n",
    "\n",
    "Keeps context better → more natural chunks."
   ]
  },
  {
   "cell_type": "markdown",
   "id": "3a575f88",
   "metadata": {},
   "source": [
    "1. split_text\n",
    "\n",
    "Works on raw text strings (not documents yet).\n",
    "\n",
    "It breaks a big text into smaller chunks (usually based on characters, tokens, or sentences).\n",
    "\n",
    "Used before creating documents."
   ]
  },
  {
   "cell_type": "markdown",
   "id": "05000d2e",
   "metadata": {},
   "source": [
    "2. create_documents\n",
    "\n",
    "Converts raw text(s) into a list of Document objects (LangChain’s Document has .page_content and .metadata).\n",
    "\n",
    "Useful if you want metadata attached (like source, page number)."
   ]
  },
  {
   "cell_type": "markdown",
   "id": "be3ef348",
   "metadata": {},
   "source": [
    "3. split_documents\n",
    "\n",
    "Works on existing Document objects instead of raw text.\n",
    "\n",
    "Useful when you already have Documents (say, from PDFs or databases) and now want to chunk them further."
   ]
  }
 ],
 "metadata": {
  "kernelspec": {
   "display_name": "Python 3",
   "language": "python",
   "name": "python3"
  },
  "language_info": {
   "codemirror_mode": {
    "name": "ipython",
    "version": 3
   },
   "file_extension": ".py",
   "mimetype": "text/x-python",
   "name": "python",
   "nbconvert_exporter": "python",
   "pygments_lexer": "ipython3",
   "version": "3.13.7"
  }
 },
 "nbformat": 4,
 "nbformat_minor": 5
}
